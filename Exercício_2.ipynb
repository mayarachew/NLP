{
  "nbformat": 4,
  "nbformat_minor": 0,
  "metadata": {
    "colab": {
      "name": "Exercício_2.ipynb",
      "provenance": [],
      "collapsed_sections": [],
      "authorship_tag": "ABX9TyPnry/w0MvChL/7Ke27lFQt",
      "include_colab_link": true
    },
    "kernelspec": {
      "name": "python3",
      "display_name": "Python 3"
    },
    "language_info": {
      "name": "python"
    }
  },
  "cells": [
    {
      "cell_type": "markdown",
      "metadata": {
        "id": "view-in-github",
        "colab_type": "text"
      },
      "source": [
        "<a href=\"https://colab.research.google.com/github/mayarachew/NLP/blob/main/Exerc%C3%ADcio_2.ipynb\" target=\"_parent\"><img src=\"https://colab.research.google.com/assets/colab-badge.svg\" alt=\"Open In Colab\"/></a>"
      ]
    },
    {
      "cell_type": "code",
      "source": [
        "import pandas as pd\n",
        "import re\n",
        "import nltk\n",
        "from nltk.corpus import stopwords\n",
        "nltk.download('stopwords')\n",
        "nltk.download('punkt')\n",
        "from nltk.tokenize import word_tokenize\n",
        "nltk.download('wordnet')\n",
        "nltk.download('omw-1.4')\n",
        "from nltk.stem import WordNetLemmatizer"
      ],
      "metadata": {
        "id": "c3vLrTK7cjCS",
        "colab": {
          "base_uri": "https://localhost:8080/"
        },
        "outputId": "b0b1b05f-9f34-408a-e01f-e1e27ab967b0"
      },
      "execution_count": 182,
      "outputs": [
        {
          "output_type": "stream",
          "name": "stderr",
          "text": [
            "[nltk_data] Downloading package stopwords to /root/nltk_data...\n",
            "[nltk_data]   Package stopwords is already up-to-date!\n",
            "[nltk_data] Downloading package punkt to /root/nltk_data...\n",
            "[nltk_data]   Package punkt is already up-to-date!\n",
            "[nltk_data] Downloading package wordnet to /root/nltk_data...\n",
            "[nltk_data]   Package wordnet is already up-to-date!\n",
            "[nltk_data] Downloading package omw-1.4 to /root/nltk_data...\n",
            "[nltk_data]   Package omw-1.4 is already up-to-date!\n"
          ]
        }
      ]
    },
    {
      "cell_type": "code",
      "execution_count": 183,
      "metadata": {
        "id": "APsoc2AbceDH",
        "colab": {
          "base_uri": "https://localhost:8080/"
        },
        "outputId": "29a9cc92-49c6-4e6f-fa9a-35548ade9d72"
      },
      "outputs": [
        {
          "output_type": "execute_result",
          "data": {
            "text/plain": [
              "0    Gas by my house hit $3.39!!!! I’m going to Cha...\n",
              "1    Theo Walcott is still shit, watch Rafa and Joh...\n",
              "2    its not that I’m a GSP fan, i just hate Nick D...\n",
              "3    Iranian general says Israel’s Iron Dome can’t ...\n",
              "4    Tehran, Mon Amour: Obama Tried to Establish Ti...\n",
              "dtype: object"
            ]
          },
          "metadata": {},
          "execution_count": 183
        }
      ],
      "source": [
        "corpus_tweets = ['Gas by my house hit $3.39!!!! I\\u2019m going to Chapel Hill on Sat. :)',\n",
        "        'Theo Walcott is still shit\\u002c watch Rafa and Johnny deal with him on Saturday',\n",
        "        'its not that I\\u2019m a GSP fan\\u002c i just hate Nick Diaz. can\\u2019t wait for february',\n",
        "        'Iranian general says Israel\\u2019s Iron Dome can\\u2019t deal with their missiles (keep talking like that and we may end up finding out)',\n",
        "        'Tehran\\u002c Mon Amour: Obama Tried to Establish Ties with the Mullahs http://t.co/TZZzrrKa via @PJMedia_com No Barack Obama - Vote Mitt Romney']\n",
        "corpus_tweets = pd.Series(corpus_tweets)\n",
        "corpus_tweets"
      ]
    },
    {
      "cell_type": "code",
      "source": [
        "def preprocessing(text):\n",
        "    # regex\n",
        "    pp_text = re.sub(r':\\)|\\(:', 'happy', text)\n",
        "    pp_text = re.sub(r':\\(|\\):', 'sad', pp_text)\n",
        "    pp_text = re.sub(r':D', 'excited', pp_text)\n",
        "    pp_text = re.sub(r'D:', 'sorrowful', pp_text)\n",
        "    pp_text = re.sub(r'D:', 'sorrowful', pp_text)\n",
        "    pp_text = re.sub(r'#', '', pp_text)\n",
        "    pp_text = re.sub(r'\\$[\\d.,]*', 'price', pp_text)\n",
        "    pp_text = re.sub(r'[^ ]*(\\’m)', 'I am', pp_text)\n",
        "    pp_text = re.sub(r'\\’t', ' not', pp_text)\n",
        "    pp_text = re.sub(r'its', ' it’s', pp_text)\n",
        "    pp_text = re.sub(r'http:[^ ]*', '', pp_text)\n",
        "    pp_text = re.sub(r'@[^ ]*', '', pp_text)\n",
        "    pp_text = re.sub(r'!', ' important ', pp_text)\n",
        "    pp_text = re.sub(r'\\.\\.\\.', ' etc ', pp_text)\n",
        "    pp_text = re.sub(r'[^\\w\\s]', '', pp_text)\n",
        "    pp_text = re.sub(r'  *', ' ', pp_text)\n",
        "    pp_text = pp_text.lower()\n",
        "\n",
        "    # tokenization\n",
        "    pp_token_text = word_tokenize(pp_text)\n",
        "\n",
        "    # remove stopwords\n",
        "    pp_token_text = [word for word in pp_token_text if word not in stopwords.words('english')]\n",
        "\n",
        "    # lemmatization\n",
        "    wl = WordNetLemmatizer()\n",
        "    pp_token_text = [wl.lemmatize(word) for word in pp_token_text]\n",
        "    return pp_text"
      ],
      "metadata": {
        "id": "4uUh1s0yeOvP"
      },
      "execution_count": 209,
      "outputs": []
    },
    {
      "cell_type": "code",
      "source": [
        "pp_tweets = []\n",
        "corpus = ''\n",
        "\n",
        "for tweet in corpus_tweets:\n",
        "  pp_tweets.append(preprocessing(tweet))\n",
        "  corpus += tweet+''\n",
        "\n",
        "print(pp_tweets)"
      ],
      "metadata": {
        "id": "DYPoVpCkcldI",
        "colab": {
          "base_uri": "https://localhost:8080/"
        },
        "outputId": "cf2eb7ca-0302-4fbf-fa02-48d720156be2"
      },
      "execution_count": 210,
      "outputs": [
        {
          "output_type": "stream",
          "name": "stdout",
          "text": [
            "['gas by my house hit price important important important important i am going to chapel hill on sat happy', 'theo walcott is still shit watch rafa and johnny deal with him on saturday', ' its not that i am a gsp fan i just hate nick diaz can not wait for february', 'iranian general says israels iron dome can not deal with their missiles keep talking like that and we may end up finding out', 'tehran mon amour obama tried to establish ties with the mullahs via no barack obama vote mitt romney']\n"
          ]
        }
      ]
    },
    {
      "cell_type": "code",
      "source": [
        "df = pd.DataFrame(pp_tweets)\n",
        "df"
      ],
      "metadata": {
        "colab": {
          "base_uri": "https://localhost:8080/",
          "height": 206
        },
        "id": "smb9sHgZqc3-",
        "outputId": "b6bd8c95-c1e0-4b4d-fe4b-f36c31dbd061"
      },
      "execution_count": 211,
      "outputs": [
        {
          "output_type": "execute_result",
          "data": {
            "text/plain": [
              "                                                   0\n",
              "0  gas by my house hit price important important ...\n",
              "1  theo walcott is still shit watch rafa and john...\n",
              "2   its not that i am a gsp fan i just hate nick ...\n",
              "3  iranian general says israels iron dome can not...\n",
              "4  tehran mon amour obama tried to establish ties..."
            ],
            "text/html": [
              "\n",
              "  <div id=\"df-69f462af-cdfa-4e37-8055-5b199a9e94cc\">\n",
              "    <div class=\"colab-df-container\">\n",
              "      <div>\n",
              "<style scoped>\n",
              "    .dataframe tbody tr th:only-of-type {\n",
              "        vertical-align: middle;\n",
              "    }\n",
              "\n",
              "    .dataframe tbody tr th {\n",
              "        vertical-align: top;\n",
              "    }\n",
              "\n",
              "    .dataframe thead th {\n",
              "        text-align: right;\n",
              "    }\n",
              "</style>\n",
              "<table border=\"1\" class=\"dataframe\">\n",
              "  <thead>\n",
              "    <tr style=\"text-align: right;\">\n",
              "      <th></th>\n",
              "      <th>0</th>\n",
              "    </tr>\n",
              "  </thead>\n",
              "  <tbody>\n",
              "    <tr>\n",
              "      <th>0</th>\n",
              "      <td>gas by my house hit price important important ...</td>\n",
              "    </tr>\n",
              "    <tr>\n",
              "      <th>1</th>\n",
              "      <td>theo walcott is still shit watch rafa and john...</td>\n",
              "    </tr>\n",
              "    <tr>\n",
              "      <th>2</th>\n",
              "      <td>its not that i am a gsp fan i just hate nick ...</td>\n",
              "    </tr>\n",
              "    <tr>\n",
              "      <th>3</th>\n",
              "      <td>iranian general says israels iron dome can not...</td>\n",
              "    </tr>\n",
              "    <tr>\n",
              "      <th>4</th>\n",
              "      <td>tehran mon amour obama tried to establish ties...</td>\n",
              "    </tr>\n",
              "  </tbody>\n",
              "</table>\n",
              "</div>\n",
              "      <button class=\"colab-df-convert\" onclick=\"convertToInteractive('df-69f462af-cdfa-4e37-8055-5b199a9e94cc')\"\n",
              "              title=\"Convert this dataframe to an interactive table.\"\n",
              "              style=\"display:none;\">\n",
              "        \n",
              "  <svg xmlns=\"http://www.w3.org/2000/svg\" height=\"24px\"viewBox=\"0 0 24 24\"\n",
              "       width=\"24px\">\n",
              "    <path d=\"M0 0h24v24H0V0z\" fill=\"none\"/>\n",
              "    <path d=\"M18.56 5.44l.94 2.06.94-2.06 2.06-.94-2.06-.94-.94-2.06-.94 2.06-2.06.94zm-11 1L8.5 8.5l.94-2.06 2.06-.94-2.06-.94L8.5 2.5l-.94 2.06-2.06.94zm10 10l.94 2.06.94-2.06 2.06-.94-2.06-.94-.94-2.06-.94 2.06-2.06.94z\"/><path d=\"M17.41 7.96l-1.37-1.37c-.4-.4-.92-.59-1.43-.59-.52 0-1.04.2-1.43.59L10.3 9.45l-7.72 7.72c-.78.78-.78 2.05 0 2.83L4 21.41c.39.39.9.59 1.41.59.51 0 1.02-.2 1.41-.59l7.78-7.78 2.81-2.81c.8-.78.8-2.07 0-2.86zM5.41 20L4 18.59l7.72-7.72 1.47 1.35L5.41 20z\"/>\n",
              "  </svg>\n",
              "      </button>\n",
              "      \n",
              "  <style>\n",
              "    .colab-df-container {\n",
              "      display:flex;\n",
              "      flex-wrap:wrap;\n",
              "      gap: 12px;\n",
              "    }\n",
              "\n",
              "    .colab-df-convert {\n",
              "      background-color: #E8F0FE;\n",
              "      border: none;\n",
              "      border-radius: 50%;\n",
              "      cursor: pointer;\n",
              "      display: none;\n",
              "      fill: #1967D2;\n",
              "      height: 32px;\n",
              "      padding: 0 0 0 0;\n",
              "      width: 32px;\n",
              "    }\n",
              "\n",
              "    .colab-df-convert:hover {\n",
              "      background-color: #E2EBFA;\n",
              "      box-shadow: 0px 1px 2px rgba(60, 64, 67, 0.3), 0px 1px 3px 1px rgba(60, 64, 67, 0.15);\n",
              "      fill: #174EA6;\n",
              "    }\n",
              "\n",
              "    [theme=dark] .colab-df-convert {\n",
              "      background-color: #3B4455;\n",
              "      fill: #D2E3FC;\n",
              "    }\n",
              "\n",
              "    [theme=dark] .colab-df-convert:hover {\n",
              "      background-color: #434B5C;\n",
              "      box-shadow: 0px 1px 3px 1px rgba(0, 0, 0, 0.15);\n",
              "      filter: drop-shadow(0px 1px 2px rgba(0, 0, 0, 0.3));\n",
              "      fill: #FFFFFF;\n",
              "    }\n",
              "  </style>\n",
              "\n",
              "      <script>\n",
              "        const buttonEl =\n",
              "          document.querySelector('#df-69f462af-cdfa-4e37-8055-5b199a9e94cc button.colab-df-convert');\n",
              "        buttonEl.style.display =\n",
              "          google.colab.kernel.accessAllowed ? 'block' : 'none';\n",
              "\n",
              "        async function convertToInteractive(key) {\n",
              "          const element = document.querySelector('#df-69f462af-cdfa-4e37-8055-5b199a9e94cc');\n",
              "          const dataTable =\n",
              "            await google.colab.kernel.invokeFunction('convertToInteractive',\n",
              "                                                     [key], {});\n",
              "          if (!dataTable) return;\n",
              "\n",
              "          const docLinkHtml = 'Like what you see? Visit the ' +\n",
              "            '<a target=\"_blank\" href=https://colab.research.google.com/notebooks/data_table.ipynb>data table notebook</a>'\n",
              "            + ' to learn more about interactive tables.';\n",
              "          element.innerHTML = '';\n",
              "          dataTable['output_type'] = 'display_data';\n",
              "          await google.colab.output.renderOutput(dataTable, element);\n",
              "          const docLink = document.createElement('div');\n",
              "          docLink.innerHTML = docLinkHtml;\n",
              "          element.appendChild(docLink);\n",
              "        }\n",
              "      </script>\n",
              "    </div>\n",
              "  </div>\n",
              "  "
            ]
          },
          "metadata": {},
          "execution_count": 211
        }
      ]
    }
  ]
}