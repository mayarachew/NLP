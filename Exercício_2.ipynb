{
  "nbformat": 4,
  "nbformat_minor": 0,
  "metadata": {
    "colab": {
      "name": "Exercício_2.ipynb",
      "provenance": [],
      "collapsed_sections": [],
      "authorship_tag": "ABX9TyNrBZJC4I42ALz0zqwQgZG/",
      "include_colab_link": true
    },
    "kernelspec": {
      "name": "python3",
      "display_name": "Python 3"
    },
    "language_info": {
      "name": "python"
    }
  },
  "cells": [
    {
      "cell_type": "markdown",
      "metadata": {
        "id": "view-in-github",
        "colab_type": "text"
      },
      "source": [
        "<a href=\"https://colab.research.google.com/github/mayarachew/NLP/blob/main/Exerc%C3%ADcio_2.ipynb\" target=\"_parent\"><img src=\"https://colab.research.google.com/assets/colab-badge.svg\" alt=\"Open In Colab\"/></a>"
      ]
    },
    {
      "cell_type": "code",
      "source": [
        "import pandas as pd\n",
        "import re\n",
        "import nltk\n",
        "nltk.download('wordnet')\n",
        "nltk.download('omw-1.4')\n",
        "from nltk.stem import WordNetLemmatizer"
      ],
      "metadata": {
        "id": "c3vLrTK7cjCS",
        "colab": {
          "base_uri": "https://localhost:8080/"
        },
        "outputId": "32c1edda-60cb-4164-caa3-7715cf712af2"
      },
      "execution_count": 121,
      "outputs": [
        {
          "output_type": "stream",
          "name": "stderr",
          "text": [
            "[nltk_data] Downloading package wordnet to /root/nltk_data...\n",
            "[nltk_data]   Package wordnet is already up-to-date!\n",
            "[nltk_data] Downloading package omw-1.4 to /root/nltk_data...\n",
            "[nltk_data]   Unzipping corpora/omw-1.4.zip.\n"
          ]
        }
      ]
    },
    {
      "cell_type": "code",
      "execution_count": 12,
      "metadata": {
        "id": "APsoc2AbceDH",
        "colab": {
          "base_uri": "https://localhost:8080/"
        },
        "outputId": "367f5a16-dfdc-49e6-8678-aad4911ccb83"
      },
      "outputs": [
        {
          "output_type": "execute_result",
          "data": {
            "text/plain": [
              "0    Gas by my house hit $3.39!!!! I’m going to Cha...\n",
              "1    Theo Walcott is still shit, watch Rafa and Joh...\n",
              "2    its not that I’m a GSP fan, i just hate Nick D...\n",
              "3    Iranian general says Israel’s Iron Dome can’t ...\n",
              "4    Tehran, Mon Amour: Obama Tried to Establish Ti...\n",
              "dtype: object"
            ]
          },
          "metadata": {},
          "execution_count": 12
        }
      ],
      "source": [
        "corpus_tweets = ['Gas by my house hit $3.39!!!! I\\u2019m going to Chapel Hill on Sat. :)',\n",
        "        'Theo Walcott is still shit\\u002c watch Rafa and Johnny deal with him on Saturday',\n",
        "        'its not that I\\u2019m a GSP fan\\u002c i just hate Nick Diaz. can\\u2019t wait for february',\n",
        "        'Iranian general says Israel\\u2019s Iron Dome can\\u2019t deal with their missiles (keep talking like that and we may end up finding out)',\n",
        "        'Tehran\\u002c Mon Amour: Obama Tried to Establish Ties with the Mullahs http://t.co/TZZzrrKa via @PJMedia_com No Barack Obama - Vote Mitt Romney']\n",
        "corpus_tweets = pd.Series(corpus_tweets)\n",
        "corpus_tweets"
      ]
    },
    {
      "cell_type": "code",
      "source": [
        "def preprocessing(text):\n",
        "    # regex\n",
        "    pp_text = re.sub(r':\\)|\\(:', 'happy', text)\n",
        "    pp_text = re.sub(r':\\(|\\):', 'sad', pp_text)\n",
        "    pp_text = re.sub(r':D', 'excited', pp_text)\n",
        "    pp_text = re.sub(r'D:', 'sorrowful', pp_text)\n",
        "    pp_text = re.sub(r'D:', 'sorrowful', pp_text)\n",
        "    pp_text = re.sub(r'#', '', pp_text)\n",
        "    pp_text = re.sub(r'\\$[\\d.,]*', 'price', pp_text)\n",
        "    pp_text = re.sub(r'[^ ]*(\\’m)', 'I am', pp_text)\n",
        "    pp_text = re.sub(r'\\’t', ' not', pp_text)\n",
        "    pp_text = re.sub(r'its|it\\'s', 'it is', pp_text)\n",
        "    pp_text = re.sub(r'\\’s', ' owner', pp_text)\n",
        "    pp_text = re.sub(r'http:[^ ]*', '', pp_text)\n",
        "    pp_text = re.sub(r'@[^ ]*', '', pp_text)\n",
        "    pp_text = re.sub(r'!', ' important ', pp_text)\n",
        "    pp_text = re.sub(r'\\.\\.\\.', ' etc ', pp_text)\n",
        "    pp_text = re.sub(r'[^\\w\\s]', '', pp_text)\n",
        "    pp_text = re.sub(r'  *', ' ', pp_text)\n",
        "    pp_text = pp_text.lower()\n",
        "\n",
        "    # tokenization\n",
        "    pp_token_text = pp_text.split() \n",
        "\n",
        "    # lemmatization\n",
        "    wl = WordNetLemmatizer()\n",
        "    pp_token_text = [wl.lemmatize(word) for word in pp_token_text]\n",
        "    return pp_text"
      ],
      "metadata": {
        "id": "4uUh1s0yeOvP"
      },
      "execution_count": 150,
      "outputs": []
    },
    {
      "cell_type": "code",
      "source": [
        "pp_tweets = []\n",
        "corpus = ''\n",
        "\n",
        "for tweet in corpus_tweets:\n",
        "  pp_tweets.append(preprocessing(tweet))\n",
        "  corpus += tweet+''\n",
        "\n",
        "print(pp_tweets)"
      ],
      "metadata": {
        "id": "DYPoVpCkcldI",
        "colab": {
          "base_uri": "https://localhost:8080/"
        },
        "outputId": "0c90ac81-d08e-44e6-c81b-f9ac08e50208"
      },
      "execution_count": 155,
      "outputs": [
        {
          "output_type": "stream",
          "name": "stdout",
          "text": [
            "['gas by my house hit price important important important important i am going to chapel hill on sat happy', 'theo walcott is still shit watch rafa and johnny deal with him on saturday', 'it is not that i am a gsp fan i just hate nick diaz can not wait for february', 'iranian general says israel owner iron dome can not deal with their missiles keep talking like that and we may end up finding out', 'tehran mon amour obama tried to establish ties with the mullahs via no barack obama vote mitt romney']\n"
          ]
        }
      ]
    }
  ]
}