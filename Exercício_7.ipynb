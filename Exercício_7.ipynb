{
  "nbformat": 4,
  "nbformat_minor": 0,
  "metadata": {
    "colab": {
      "name": "Exercício 7.ipynb",
      "provenance": [],
      "collapsed_sections": [],
      "include_colab_link": true
    },
    "kernelspec": {
      "name": "python3",
      "display_name": "Python 3"
    },
    "language_info": {
      "name": "python"
    }
  },
  "cells": [
    {
      "cell_type": "markdown",
      "metadata": {
        "id": "view-in-github",
        "colab_type": "text"
      },
      "source": [
        "<a href=\"https://colab.research.google.com/github/mayarachew/NLP/blob/main/Exerc%C3%ADcio_7.ipynb\" target=\"_parent\"><img src=\"https://colab.research.google.com/assets/colab-badge.svg\" alt=\"Open In Colab\"/></a>"
      ]
    },
    {
      "cell_type": "code",
      "execution_count": 1,
      "metadata": {
        "id": "8qesw4rNMsde"
      },
      "outputs": [],
      "source": [
        "#!pip install keras\n",
        "#!pip install tensorflow"
      ]
    },
    {
      "cell_type": "code",
      "source": [
        "import pandas as pd\n",
        "import numpy as np\n",
        "from keras.models import Sequential\n",
        "from keras.layers import Dense\n",
        "from sklearn.feature_extraction.text import TfidfVectorizer\n",
        "from tensorflow.keras.optimizers import SGD\n",
        "from keras.utils.np_utils import to_categorical\n",
        "import matplotlib.pyplot as plt\n",
        "from sklearn.metrics import classification_report\n",
        "from sklearn.metrics import confusion_matrix"
      ],
      "metadata": {
        "id": "kLa3daEePeVT"
      },
      "execution_count": 2,
      "outputs": []
    },
    {
      "cell_type": "code",
      "source": [
        "path_train = 'https://raw.githubusercontent.com/viniciusrpb/cic0269_natural_language_processing/main/datasets/corpora/tweets_polarity_classification/twitter-2013train-A.txt'\n",
        "path_test = 'https://raw.githubusercontent.com/viniciusrpb/cic0269_natural_language_processing/main/datasets/corpora/tweets_polarity_classification/twitter-2013test-A.txt'\n",
        "path_valid = 'https://raw.githubusercontent.com/viniciusrpb/cic0269_natural_language_processing/main/datasets/corpora/tweets_polarity_classification/twitter-2013dev-A.txt'"
      ],
      "metadata": {
        "id": "kJ8N5yE_Nwm6"
      },
      "execution_count": 3,
      "outputs": []
    },
    {
      "cell_type": "code",
      "source": [
        "df_train = pd.read_csv(path_train,names=['id','polarity','text'],sep='\\t')\n",
        "df_valid = pd.read_csv(path_valid,names=['id','polarity','text'],sep='\\t')\n",
        "df_test = pd.read_csv(path_test,names=['id','polarity','text'],sep='\\t')"
      ],
      "metadata": {
        "id": "MWO6bS02PaeH"
      },
      "execution_count": 4,
      "outputs": []
    },
    {
      "cell_type": "code",
      "source": [
        "df_test"
      ],
      "metadata": {
        "colab": {
          "base_uri": "https://localhost:8080/",
          "height": 467
        },
        "id": "KEfJe3N5Pzpo",
        "outputId": "e792efcd-faf9-4aed-eb39-a232eab38514"
      },
      "execution_count": 5,
      "outputs": [
        {
          "output_type": "execute_result",
          "data": {
            "text/plain": [
              "                      id  polarity  \\\n",
              "0     264238274963451904  positive   \n",
              "1     218775148495515649  positive   \n",
              "2     258965201766998017   neutral   \n",
              "3     262926411352903682  negative   \n",
              "4     171874368908050432   neutral   \n",
              "...                  ...       ...   \n",
              "3542  264233437060288512  negative   \n",
              "3543  263779058284904448   neutral   \n",
              "3544  250744453831213056  negative   \n",
              "3545  258679974591090688  positive   \n",
              "3546  243018372453916674   neutral   \n",
              "\n",
              "                                                   text  \n",
              "0     @jjuueellzz down in the Atlantic city, ventnor...  \n",
              "1     Musical awareness: Great Big Beautiful Tomorro...  \n",
              "2     On Radio786 100.4fm 7:10 Fri Oct 19 Labour ana...  \n",
              "3     Kapan sih lo ngebuktiin,jan ngomong doang Susa...  \n",
              "4     Excuse the connectivity of this live stream, f...  \n",
              "...                                                 ...  \n",
              "3542  Khaleda Zia's present India visit may have a b...  \n",
              "3543  FYI, golf fans: @jameslepp will join Moj on We...  \n",
              "3544  @__Aniko you think mr.Calle let practice with ...  \n",
              "3545  Don't hide under your desk! It's just a salsa ...  \n",
              "3546  Saturday flashmob on the music of The Runaways...  \n",
              "\n",
              "[3547 rows x 3 columns]"
            ],
            "text/html": [
              "\n",
              "  <div id=\"df-c8d339bc-8525-4724-8156-5bd7869f4fc0\">\n",
              "    <div class=\"colab-df-container\">\n",
              "      <div>\n",
              "<style scoped>\n",
              "    .dataframe tbody tr th:only-of-type {\n",
              "        vertical-align: middle;\n",
              "    }\n",
              "\n",
              "    .dataframe tbody tr th {\n",
              "        vertical-align: top;\n",
              "    }\n",
              "\n",
              "    .dataframe thead th {\n",
              "        text-align: right;\n",
              "    }\n",
              "</style>\n",
              "<table border=\"1\" class=\"dataframe\">\n",
              "  <thead>\n",
              "    <tr style=\"text-align: right;\">\n",
              "      <th></th>\n",
              "      <th>id</th>\n",
              "      <th>polarity</th>\n",
              "      <th>text</th>\n",
              "    </tr>\n",
              "  </thead>\n",
              "  <tbody>\n",
              "    <tr>\n",
              "      <th>0</th>\n",
              "      <td>264238274963451904</td>\n",
              "      <td>positive</td>\n",
              "      <td>@jjuueellzz down in the Atlantic city, ventnor...</td>\n",
              "    </tr>\n",
              "    <tr>\n",
              "      <th>1</th>\n",
              "      <td>218775148495515649</td>\n",
              "      <td>positive</td>\n",
              "      <td>Musical awareness: Great Big Beautiful Tomorro...</td>\n",
              "    </tr>\n",
              "    <tr>\n",
              "      <th>2</th>\n",
              "      <td>258965201766998017</td>\n",
              "      <td>neutral</td>\n",
              "      <td>On Radio786 100.4fm 7:10 Fri Oct 19 Labour ana...</td>\n",
              "    </tr>\n",
              "    <tr>\n",
              "      <th>3</th>\n",
              "      <td>262926411352903682</td>\n",
              "      <td>negative</td>\n",
              "      <td>Kapan sih lo ngebuktiin,jan ngomong doang Susa...</td>\n",
              "    </tr>\n",
              "    <tr>\n",
              "      <th>4</th>\n",
              "      <td>171874368908050432</td>\n",
              "      <td>neutral</td>\n",
              "      <td>Excuse the connectivity of this live stream, f...</td>\n",
              "    </tr>\n",
              "    <tr>\n",
              "      <th>...</th>\n",
              "      <td>...</td>\n",
              "      <td>...</td>\n",
              "      <td>...</td>\n",
              "    </tr>\n",
              "    <tr>\n",
              "      <th>3542</th>\n",
              "      <td>264233437060288512</td>\n",
              "      <td>negative</td>\n",
              "      <td>Khaleda Zia's present India visit may have a b...</td>\n",
              "    </tr>\n",
              "    <tr>\n",
              "      <th>3543</th>\n",
              "      <td>263779058284904448</td>\n",
              "      <td>neutral</td>\n",
              "      <td>FYI, golf fans: @jameslepp will join Moj on We...</td>\n",
              "    </tr>\n",
              "    <tr>\n",
              "      <th>3544</th>\n",
              "      <td>250744453831213056</td>\n",
              "      <td>negative</td>\n",
              "      <td>@__Aniko you think mr.Calle let practice with ...</td>\n",
              "    </tr>\n",
              "    <tr>\n",
              "      <th>3545</th>\n",
              "      <td>258679974591090688</td>\n",
              "      <td>positive</td>\n",
              "      <td>Don't hide under your desk! It's just a salsa ...</td>\n",
              "    </tr>\n",
              "    <tr>\n",
              "      <th>3546</th>\n",
              "      <td>243018372453916674</td>\n",
              "      <td>neutral</td>\n",
              "      <td>Saturday flashmob on the music of The Runaways...</td>\n",
              "    </tr>\n",
              "  </tbody>\n",
              "</table>\n",
              "<p>3547 rows × 3 columns</p>\n",
              "</div>\n",
              "      <button class=\"colab-df-convert\" onclick=\"convertToInteractive('df-c8d339bc-8525-4724-8156-5bd7869f4fc0')\"\n",
              "              title=\"Convert this dataframe to an interactive table.\"\n",
              "              style=\"display:none;\">\n",
              "        \n",
              "  <svg xmlns=\"http://www.w3.org/2000/svg\" height=\"24px\"viewBox=\"0 0 24 24\"\n",
              "       width=\"24px\">\n",
              "    <path d=\"M0 0h24v24H0V0z\" fill=\"none\"/>\n",
              "    <path d=\"M18.56 5.44l.94 2.06.94-2.06 2.06-.94-2.06-.94-.94-2.06-.94 2.06-2.06.94zm-11 1L8.5 8.5l.94-2.06 2.06-.94-2.06-.94L8.5 2.5l-.94 2.06-2.06.94zm10 10l.94 2.06.94-2.06 2.06-.94-2.06-.94-.94-2.06-.94 2.06-2.06.94z\"/><path d=\"M17.41 7.96l-1.37-1.37c-.4-.4-.92-.59-1.43-.59-.52 0-1.04.2-1.43.59L10.3 9.45l-7.72 7.72c-.78.78-.78 2.05 0 2.83L4 21.41c.39.39.9.59 1.41.59.51 0 1.02-.2 1.41-.59l7.78-7.78 2.81-2.81c.8-.78.8-2.07 0-2.86zM5.41 20L4 18.59l7.72-7.72 1.47 1.35L5.41 20z\"/>\n",
              "  </svg>\n",
              "      </button>\n",
              "      \n",
              "  <style>\n",
              "    .colab-df-container {\n",
              "      display:flex;\n",
              "      flex-wrap:wrap;\n",
              "      gap: 12px;\n",
              "    }\n",
              "\n",
              "    .colab-df-convert {\n",
              "      background-color: #E8F0FE;\n",
              "      border: none;\n",
              "      border-radius: 50%;\n",
              "      cursor: pointer;\n",
              "      display: none;\n",
              "      fill: #1967D2;\n",
              "      height: 32px;\n",
              "      padding: 0 0 0 0;\n",
              "      width: 32px;\n",
              "    }\n",
              "\n",
              "    .colab-df-convert:hover {\n",
              "      background-color: #E2EBFA;\n",
              "      box-shadow: 0px 1px 2px rgba(60, 64, 67, 0.3), 0px 1px 3px 1px rgba(60, 64, 67, 0.15);\n",
              "      fill: #174EA6;\n",
              "    }\n",
              "\n",
              "    [theme=dark] .colab-df-convert {\n",
              "      background-color: #3B4455;\n",
              "      fill: #D2E3FC;\n",
              "    }\n",
              "\n",
              "    [theme=dark] .colab-df-convert:hover {\n",
              "      background-color: #434B5C;\n",
              "      box-shadow: 0px 1px 3px 1px rgba(0, 0, 0, 0.15);\n",
              "      filter: drop-shadow(0px 1px 2px rgba(0, 0, 0, 0.3));\n",
              "      fill: #FFFFFF;\n",
              "    }\n",
              "  </style>\n",
              "\n",
              "      <script>\n",
              "        const buttonEl =\n",
              "          document.querySelector('#df-c8d339bc-8525-4724-8156-5bd7869f4fc0 button.colab-df-convert');\n",
              "        buttonEl.style.display =\n",
              "          google.colab.kernel.accessAllowed ? 'block' : 'none';\n",
              "\n",
              "        async function convertToInteractive(key) {\n",
              "          const element = document.querySelector('#df-c8d339bc-8525-4724-8156-5bd7869f4fc0');\n",
              "          const dataTable =\n",
              "            await google.colab.kernel.invokeFunction('convertToInteractive',\n",
              "                                                     [key], {});\n",
              "          if (!dataTable) return;\n",
              "\n",
              "          const docLinkHtml = 'Like what you see? Visit the ' +\n",
              "            '<a target=\"_blank\" href=https://colab.research.google.com/notebooks/data_table.ipynb>data table notebook</a>'\n",
              "            + ' to learn more about interactive tables.';\n",
              "          element.innerHTML = '';\n",
              "          dataTable['output_type'] = 'display_data';\n",
              "          await google.colab.output.renderOutput(dataTable, element);\n",
              "          const docLink = document.createElement('div');\n",
              "          docLink.innerHTML = docLinkHtml;\n",
              "          element.appendChild(docLink);\n",
              "        }\n",
              "      </script>\n",
              "    </div>\n",
              "  </div>\n",
              "  "
            ]
          },
          "metadata": {},
          "execution_count": 5
        }
      ]
    },
    {
      "cell_type": "code",
      "source": [
        "print(f'Train size {df_train.shape}')\n",
        "print(f'Valid size {df_valid.shape}')\n",
        "print(f'Test size {df_test.shape}')"
      ],
      "metadata": {
        "colab": {
          "base_uri": "https://localhost:8080/"
        },
        "id": "DSwe3wvLP_xb",
        "outputId": "6cbc34e3-a42d-4ab8-f11c-e661cb56b15a"
      },
      "execution_count": 6,
      "outputs": [
        {
          "output_type": "stream",
          "name": "stdout",
          "text": [
            "Train size (9684, 3)\n",
            "Valid size (1654, 3)\n",
            "Test size (3547, 3)\n"
          ]
        }
      ]
    },
    {
      "cell_type": "code",
      "source": [
        "df_train = df_train.drop(labels=['id'],axis=1)\n",
        "df_valid = df_valid.drop(labels=['id'],axis=1)\n",
        "df_test = df_test.drop(labels=['id'],axis=1)"
      ],
      "metadata": {
        "id": "JEEwUpt-Qa-o"
      },
      "execution_count": 7,
      "outputs": []
    },
    {
      "cell_type": "code",
      "source": [
        "vectorizer = TfidfVectorizer(norm=None,lowercase=True,stop_words=\"english\",max_df=0.95,min_df=2)\n",
        "\n",
        "vectorizer.fit(df_train['text'])\n",
        "\n",
        "tfidf_train = vectorizer.transform(df_train['text']).toarray()\n",
        "tfidf_valid = vectorizer.transform(df_valid['text']).toarray()\n",
        "tfidf_test = vectorizer.transform(df_test['text']).toarray()"
      ],
      "metadata": {
        "id": "dbtaZnFlRA8l"
      },
      "execution_count": 8,
      "outputs": []
    },
    {
      "cell_type": "code",
      "source": [
        "df_train['polarity'] = pd.Categorical(df_train['polarity'])\n",
        "y_train_int = df_train['polarity'].cat.codes\n",
        "\n",
        "df_valid['polarity'] = pd.Categorical(df_valid['polarity'])\n",
        "y_valid_int = df_valid['polarity'].cat.codes\n",
        "\n",
        "df_test['polarity'] = pd.Categorical(df_test['polarity'])\n",
        "y_test_int = df_test['polarity'].cat.codes"
      ],
      "metadata": {
        "id": "BrT8ydnGb4Eq"
      },
      "execution_count": 9,
      "outputs": []
    },
    {
      "cell_type": "code",
      "source": [
        "y_train = to_categorical(y_train_int)\n",
        "y_valid = to_categorical(y_valid_int)\n",
        "y_test = to_categorical(y_test_int)"
      ],
      "metadata": {
        "id": "V4Wd20UQdP9z"
      },
      "execution_count": 10,
      "outputs": []
    },
    {
      "cell_type": "code",
      "source": [
        "X_train = tfidf_train\n",
        "X_valid = tfidf_valid\n",
        "X_test = tfidf_test"
      ],
      "metadata": {
        "id": "7jC6GyCRbplq"
      },
      "execution_count": 11,
      "outputs": []
    },
    {
      "cell_type": "code",
      "source": [
        "N = tfidf_train.shape[0]\n",
        "vocab_size = tfidf_train.shape[1]\n",
        "print(f'Quantidade de instancias de treinamento {N} e tamanho do vocabulario {vocab_size}')"
      ],
      "metadata": {
        "colab": {
          "base_uri": "https://localhost:8080/"
        },
        "id": "vKP6m6AsXsql",
        "outputId": "27554092-3491-4a61-fba1-d678d20fdbe0"
      },
      "execution_count": 12,
      "outputs": [
        {
          "output_type": "stream",
          "name": "stdout",
          "text": [
            "Quantidade de instancias de treinamento 9684 e tamanho do vocabulario 7654\n"
          ]
        }
      ]
    },
    {
      "cell_type": "markdown",
      "source": [
        "Arquitetura da Rede Multilayer Perceptron Profunda"
      ],
      "metadata": {
        "id": "8ZBTwtGUR7oW"
      }
    },
    {
      "cell_type": "markdown",
      "source": [
        "Hyperparâmetros da rede"
      ],
      "metadata": {
        "id": "opRBBhsCTuiL"
      }
    },
    {
      "cell_type": "code",
      "source": [
        "number_of_neurons_layer1 = 20\n",
        "number_of_neurons_layer2 = 10\n",
        "number_of_neurons_output = 3\n",
        "lr = 0.01"
      ],
      "metadata": {
        "id": "knTDnztUTtyW"
      },
      "execution_count": 13,
      "outputs": []
    },
    {
      "cell_type": "code",
      "source": [
        "model = Sequential()\n",
        "# Input Layer\n",
        "model.add(Dense(number_of_neurons_layer1,input_dim=vocab_size,activation='sigmoid'))\n",
        "model.add(Dense(number_of_neurons_layer2,activation='sigmoid'))\n",
        "model.add(Dense(number_of_neurons_output,activation='softmax'))\n",
        "model.summary()"
      ],
      "metadata": {
        "colab": {
          "base_uri": "https://localhost:8080/"
        },
        "id": "lFnqMSwQR-C9",
        "outputId": "e4866dec-21e9-4837-8ffa-45c24ca7130e"
      },
      "execution_count": 14,
      "outputs": [
        {
          "output_type": "stream",
          "name": "stdout",
          "text": [
            "Model: \"sequential\"\n",
            "_________________________________________________________________\n",
            " Layer (type)                Output Shape              Param #   \n",
            "=================================================================\n",
            " dense (Dense)               (None, 20)                153100    \n",
            "                                                                 \n",
            " dense_1 (Dense)             (None, 10)                210       \n",
            "                                                                 \n",
            " dense_2 (Dense)             (None, 3)                 33        \n",
            "                                                                 \n",
            "=================================================================\n",
            "Total params: 153,343\n",
            "Trainable params: 153,343\n",
            "Non-trainable params: 0\n",
            "_________________________________________________________________\n"
          ]
        }
      ]
    },
    {
      "cell_type": "code",
      "source": [
        "sgd = SGD(learning_rate=lr)\n",
        "model.compile(optimizer=sgd,loss='categorical_crossentropy',metrics=['accuracy'])"
      ],
      "metadata": {
        "id": "NVCoUJfAZ21I"
      },
      "execution_count": 15,
      "outputs": []
    },
    {
      "cell_type": "code",
      "source": [
        "history = model.fit(X_train,y_train,validation_data=(X_valid,y_valid), epochs=50)"
      ],
      "metadata": {
        "colab": {
          "base_uri": "https://localhost:8080/"
        },
        "id": "6f4dinSJbXft",
        "outputId": "78777b88-09c5-4d37-9b5f-44cd044bf038"
      },
      "execution_count": 16,
      "outputs": [
        {
          "output_type": "stream",
          "name": "stdout",
          "text": [
            "Epoch 1/50\n",
            "303/303 [==============================] - 3s 7ms/step - loss: 1.0078 - accuracy: 0.4736 - val_loss: 1.0634 - val_accuracy: 0.4468\n",
            "Epoch 2/50\n",
            "303/303 [==============================] - 2s 7ms/step - loss: 1.0051 - accuracy: 0.4736 - val_loss: 1.0618 - val_accuracy: 0.4468\n",
            "Epoch 3/50\n",
            "303/303 [==============================] - 2s 8ms/step - loss: 1.0031 - accuracy: 0.4736 - val_loss: 1.0597 - val_accuracy: 0.4468\n",
            "Epoch 4/50\n",
            "303/303 [==============================] - 2s 7ms/step - loss: 1.0013 - accuracy: 0.4736 - val_loss: 1.0585 - val_accuracy: 0.4468\n",
            "Epoch 5/50\n",
            "303/303 [==============================] - 2s 7ms/step - loss: 0.9991 - accuracy: 0.4737 - val_loss: 1.0581 - val_accuracy: 0.4468\n",
            "Epoch 6/50\n",
            "303/303 [==============================] - 2s 7ms/step - loss: 0.9967 - accuracy: 0.4736 - val_loss: 1.0527 - val_accuracy: 0.4468\n",
            "Epoch 7/50\n",
            "303/303 [==============================] - 2s 7ms/step - loss: 0.9944 - accuracy: 0.4738 - val_loss: 1.0528 - val_accuracy: 0.4468\n",
            "Epoch 8/50\n",
            "303/303 [==============================] - 3s 8ms/step - loss: 0.9913 - accuracy: 0.4747 - val_loss: 1.0508 - val_accuracy: 0.4480\n",
            "Epoch 9/50\n",
            "303/303 [==============================] - 2s 8ms/step - loss: 0.9878 - accuracy: 0.4788 - val_loss: 1.0484 - val_accuracy: 0.4474\n",
            "Epoch 10/50\n",
            "303/303 [==============================] - 3s 9ms/step - loss: 0.9838 - accuracy: 0.4854 - val_loss: 1.0446 - val_accuracy: 0.4522\n",
            "Epoch 11/50\n",
            "303/303 [==============================] - 2s 8ms/step - loss: 0.9790 - accuracy: 0.4924 - val_loss: 1.0416 - val_accuracy: 0.4710\n",
            "Epoch 12/50\n",
            "303/303 [==============================] - 2s 8ms/step - loss: 0.9734 - accuracy: 0.5127 - val_loss: 1.0365 - val_accuracy: 0.4807\n",
            "Epoch 13/50\n",
            "303/303 [==============================] - 2s 8ms/step - loss: 0.9667 - accuracy: 0.5405 - val_loss: 1.0319 - val_accuracy: 0.4776\n",
            "Epoch 14/50\n",
            "303/303 [==============================] - 2s 7ms/step - loss: 0.9589 - accuracy: 0.5616 - val_loss: 1.0285 - val_accuracy: 0.4879\n",
            "Epoch 15/50\n",
            "303/303 [==============================] - 2s 8ms/step - loss: 0.9497 - accuracy: 0.5733 - val_loss: 1.0215 - val_accuracy: 0.5593\n",
            "Epoch 16/50\n",
            "303/303 [==============================] - 3s 8ms/step - loss: 0.9392 - accuracy: 0.6096 - val_loss: 1.0137 - val_accuracy: 0.5484\n",
            "Epoch 17/50\n",
            "303/303 [==============================] - 2s 8ms/step - loss: 0.9273 - accuracy: 0.6202 - val_loss: 1.0048 - val_accuracy: 0.5629\n",
            "Epoch 18/50\n",
            "303/303 [==============================] - 2s 7ms/step - loss: 0.9135 - accuracy: 0.6340 - val_loss: 0.9972 - val_accuracy: 0.5671\n",
            "Epoch 19/50\n",
            "303/303 [==============================] - 1s 5ms/step - loss: 0.8986 - accuracy: 0.6448 - val_loss: 0.9871 - val_accuracy: 0.5756\n",
            "Epoch 20/50\n",
            "303/303 [==============================] - 1s 5ms/step - loss: 0.8822 - accuracy: 0.6528 - val_loss: 0.9751 - val_accuracy: 0.5774\n",
            "Epoch 21/50\n",
            "303/303 [==============================] - 1s 5ms/step - loss: 0.8650 - accuracy: 0.6607 - val_loss: 0.9649 - val_accuracy: 0.5804\n",
            "Epoch 22/50\n",
            "303/303 [==============================] - 1s 4ms/step - loss: 0.8471 - accuracy: 0.6676 - val_loss: 0.9557 - val_accuracy: 0.5859\n",
            "Epoch 23/50\n",
            "303/303 [==============================] - 1s 5ms/step - loss: 0.8285 - accuracy: 0.6750 - val_loss: 0.9437 - val_accuracy: 0.5865\n",
            "Epoch 24/50\n",
            "303/303 [==============================] - 1s 4ms/step - loss: 0.8097 - accuracy: 0.6814 - val_loss: 0.9336 - val_accuracy: 0.5859\n",
            "Epoch 25/50\n",
            "303/303 [==============================] - 1s 4ms/step - loss: 0.7905 - accuracy: 0.6884 - val_loss: 0.9218 - val_accuracy: 0.5877\n",
            "Epoch 26/50\n",
            "303/303 [==============================] - 1s 5ms/step - loss: 0.7716 - accuracy: 0.6933 - val_loss: 0.9134 - val_accuracy: 0.5907\n",
            "Epoch 27/50\n",
            "303/303 [==============================] - 1s 5ms/step - loss: 0.7527 - accuracy: 0.7004 - val_loss: 0.9066 - val_accuracy: 0.5913\n",
            "Epoch 28/50\n",
            "303/303 [==============================] - 1s 4ms/step - loss: 0.7337 - accuracy: 0.7053 - val_loss: 0.8961 - val_accuracy: 0.5919\n",
            "Epoch 29/50\n",
            "303/303 [==============================] - 1s 5ms/step - loss: 0.7150 - accuracy: 0.7115 - val_loss: 0.8922 - val_accuracy: 0.5925\n",
            "Epoch 30/50\n",
            "303/303 [==============================] - 1s 4ms/step - loss: 0.6966 - accuracy: 0.7195 - val_loss: 0.8813 - val_accuracy: 0.6010\n",
            "Epoch 31/50\n",
            "303/303 [==============================] - 1s 5ms/step - loss: 0.6785 - accuracy: 0.7272 - val_loss: 0.8771 - val_accuracy: 0.5998\n",
            "Epoch 32/50\n",
            "303/303 [==============================] - 1s 5ms/step - loss: 0.6604 - accuracy: 0.7347 - val_loss: 0.8727 - val_accuracy: 0.6052\n",
            "Epoch 33/50\n",
            "303/303 [==============================] - 1s 5ms/step - loss: 0.6427 - accuracy: 0.7422 - val_loss: 0.8675 - val_accuracy: 0.6106\n",
            "Epoch 34/50\n",
            "303/303 [==============================] - 1s 5ms/step - loss: 0.6249 - accuracy: 0.7498 - val_loss: 0.8657 - val_accuracy: 0.6125\n",
            "Epoch 35/50\n",
            "303/303 [==============================] - 1s 5ms/step - loss: 0.6072 - accuracy: 0.7591 - val_loss: 0.8606 - val_accuracy: 0.6221\n",
            "Epoch 36/50\n",
            "303/303 [==============================] - 1s 5ms/step - loss: 0.5901 - accuracy: 0.7664 - val_loss: 0.8593 - val_accuracy: 0.6294\n",
            "Epoch 37/50\n",
            "303/303 [==============================] - 1s 5ms/step - loss: 0.5730 - accuracy: 0.7750 - val_loss: 0.8595 - val_accuracy: 0.6276\n",
            "Epoch 38/50\n",
            "303/303 [==============================] - 1s 4ms/step - loss: 0.5563 - accuracy: 0.7845 - val_loss: 0.8593 - val_accuracy: 0.6306\n",
            "Epoch 39/50\n",
            "303/303 [==============================] - 1s 5ms/step - loss: 0.5397 - accuracy: 0.7931 - val_loss: 0.8599 - val_accuracy: 0.6264\n",
            "Epoch 40/50\n",
            "303/303 [==============================] - 1s 5ms/step - loss: 0.5235 - accuracy: 0.8015 - val_loss: 0.8612 - val_accuracy: 0.6294\n",
            "Epoch 41/50\n",
            "303/303 [==============================] - 1s 4ms/step - loss: 0.5074 - accuracy: 0.8148 - val_loss: 0.8626 - val_accuracy: 0.6318\n",
            "Epoch 42/50\n",
            "303/303 [==============================] - 1s 5ms/step - loss: 0.4917 - accuracy: 0.8207 - val_loss: 0.8645 - val_accuracy: 0.6282\n",
            "Epoch 43/50\n",
            "303/303 [==============================] - 1s 4ms/step - loss: 0.4763 - accuracy: 0.8303 - val_loss: 0.8700 - val_accuracy: 0.6336\n",
            "Epoch 44/50\n",
            "303/303 [==============================] - 1s 5ms/step - loss: 0.4612 - accuracy: 0.8361 - val_loss: 0.8727 - val_accuracy: 0.6330\n",
            "Epoch 45/50\n",
            "303/303 [==============================] - 1s 5ms/step - loss: 0.4465 - accuracy: 0.8427 - val_loss: 0.8764 - val_accuracy: 0.6306\n",
            "Epoch 46/50\n",
            "303/303 [==============================] - 1s 4ms/step - loss: 0.4322 - accuracy: 0.8505 - val_loss: 0.8814 - val_accuracy: 0.6318\n",
            "Epoch 47/50\n",
            "303/303 [==============================] - 1s 4ms/step - loss: 0.4181 - accuracy: 0.8572 - val_loss: 0.8883 - val_accuracy: 0.6300\n",
            "Epoch 48/50\n",
            "303/303 [==============================] - 1s 5ms/step - loss: 0.4045 - accuracy: 0.8654 - val_loss: 0.8953 - val_accuracy: 0.6288\n",
            "Epoch 49/50\n",
            "303/303 [==============================] - 1s 4ms/step - loss: 0.3912 - accuracy: 0.8706 - val_loss: 0.9047 - val_accuracy: 0.6288\n",
            "Epoch 50/50\n",
            "303/303 [==============================] - 2s 5ms/step - loss: 0.3785 - accuracy: 0.8755 - val_loss: 0.9105 - val_accuracy: 0.6288\n"
          ]
        }
      ]
    },
    {
      "cell_type": "code",
      "source": [
        "plt.plot(history.history['loss'])\n",
        "plt.plot(history.history['val_loss'])\n",
        "plt.title('Model loss')\n",
        "plt.ylabel('Loss')\n",
        "plt.xlabel('Epoch')\n",
        "plt.legend(['Train', 'Validation'], loc='upper left')\n",
        "plt.show()"
      ],
      "metadata": {
        "colab": {
          "base_uri": "https://localhost:8080/",
          "height": 295
        },
        "id": "OJHj7NfRfJrS",
        "outputId": "ea5f1d53-f78f-4457-d77b-e074feda2e71"
      },
      "execution_count": 17,
      "outputs": [
        {
          "output_type": "display_data",
          "data": {
            "text/plain": [
              "<Figure size 432x288 with 1 Axes>"
            ],
            "image/png": "[encoded data removed]"
          },
          "metadata": {
            "needs_background": "light"
          }
        }
      ]
    },
    {
      "cell_type": "code",
      "source": [
        "plt.plot(history.history['accuracy'])\n",
        "plt.plot(history.history['val_accuracy'])\n",
        "plt.title('Model acc')\n",
        "plt.ylabel('Accuracy')\n",
        "plt.xlabel('Epoch')\n",
        "plt.legend(['Train', 'Validation'], loc='upper left')\n",
        "plt.show()"
      ],
      "metadata": {
        "colab": {
          "base_uri": "https://localhost:8080/",
          "height": 295
        },
        "id": "cUKzQDzCgdVX",
        "outputId": "9ffadb09-319a-476a-e4f7-76d389e364b2"
      },
      "execution_count": 18,
      "outputs": [
        {
          "output_type": "display_data",
          "data": {
            "text/plain": [
              "<Figure size 432x288 with 1 Axes>"
            ],
            "image/png": "[encoded data removed]"
          },
          "metadata": {
            "needs_background": "light"
          }
        }
      ]
    },
    {
      "cell_type": "markdown",
      "source": [
        "Avaliação com os Dados de Teste"
      ],
      "metadata": {
        "id": "QP7yxTEPg1Nv"
      }
    },
    {
      "cell_type": "code",
      "source": [
        "y = model.evaluate(X_test,y_test)"
      ],
      "metadata": {
        "colab": {
          "base_uri": "https://localhost:8080/"
        },
        "id": "yM-hXxVtg4J2",
        "outputId": "4077e2b4-8d07-4cbb-caff-87a8101757d2"
      },
      "execution_count": 19,
      "outputs": [
        {
          "output_type": "stream",
          "name": "stdout",
          "text": [
            "111/111 [==============================] - 0s 2ms/step - loss: 0.8884 - accuracy: 0.6462\n"
          ]
        }
      ]
    },
    {
      "cell_type": "code",
      "source": [
        "y_prob = model.predict(X_test)\n",
        "y_prob"
      ],
      "metadata": {
        "colab": {
          "base_uri": "https://localhost:8080/"
        },
        "id": "u42IOHfzlCnM",
        "outputId": "6f048708-0856-439a-a382-a4ab29cc0861"
      },
      "execution_count": 20,
      "outputs": [
        {
          "output_type": "execute_result",
          "data": {
            "text/plain": [
              "array([[0.10799696, 0.15726894, 0.7347341 ],\n",
              "       [0.02594371, 0.010962  , 0.9630943 ],\n",
              "       [0.04736666, 0.89284337, 0.05979   ],\n",
              "       ...,\n",
              "       [0.17648837, 0.5587441 , 0.2647676 ],\n",
              "       [0.13969491, 0.05150709, 0.80879796],\n",
              "       [0.1660558 , 0.52246064, 0.3114836 ]], dtype=float32)"
            ]
          },
          "metadata": {},
          "execution_count": 20
        }
      ]
    },
    {
      "cell_type": "code",
      "source": [
        "y_pred = np.argmax(y_prob,axis=1)\n",
        "y_pred"
      ],
      "metadata": {
        "colab": {
          "base_uri": "https://localhost:8080/"
        },
        "id": "zJDx8GlRlyPz",
        "outputId": "6c6e5d17-3b1a-4842-a690-46ff2296fd16"
      },
      "execution_count": 21,
      "outputs": [
        {
          "output_type": "execute_result",
          "data": {
            "text/plain": [
              "array([2, 2, 1, ..., 1, 2, 1])"
            ]
          },
          "metadata": {},
          "execution_count": 21
        }
      ]
    },
    {
      "cell_type": "code",
      "source": [
        "y_test_int"
      ],
      "metadata": {
        "colab": {
          "base_uri": "https://localhost:8080/"
        },
        "id": "yTsaRqgVllE3",
        "outputId": "5d1d804d-0e91-46dc-f6d7-a676724110c1"
      },
      "execution_count": 22,
      "outputs": [
        {
          "output_type": "execute_result",
          "data": {
            "text/plain": [
              "0       2\n",
              "1       2\n",
              "2       1\n",
              "3       0\n",
              "4       1\n",
              "       ..\n",
              "3542    0\n",
              "3543    1\n",
              "3544    0\n",
              "3545    2\n",
              "3546    1\n",
              "Length: 3547, dtype: int8"
            ]
          },
          "metadata": {},
          "execution_count": 22
        }
      ]
    },
    {
      "cell_type": "code",
      "source": [
        "y_real = np.argmax(y_test,axis=1)\n",
        "y_real"
      ],
      "metadata": {
        "colab": {
          "base_uri": "https://localhost:8080/"
        },
        "id": "jyz_tt-4Mnd4",
        "outputId": "172c4991-30c9-408c-a16d-ec1200cf758e"
      },
      "execution_count": 23,
      "outputs": [
        {
          "output_type": "execute_result",
          "data": {
            "text/plain": [
              "array([2, 2, 1, ..., 0, 2, 1])"
            ]
          },
          "metadata": {},
          "execution_count": 23
        }
      ]
    },
    {
      "cell_type": "code",
      "source": [
        "y_pred"
      ],
      "metadata": {
        "colab": {
          "base_uri": "https://localhost:8080/"
        },
        "id": "vOvTbq4lMPf7",
        "outputId": "90882b9d-d218-4c0c-a06f-aec99498df78"
      },
      "execution_count": 24,
      "outputs": [
        {
          "output_type": "execute_result",
          "data": {
            "text/plain": [
              "array([2, 2, 1, ..., 1, 2, 1])"
            ]
          },
          "metadata": {},
          "execution_count": 24
        }
      ]
    },
    {
      "cell_type": "code",
      "source": [
        "np.unique(y_pred)"
      ],
      "metadata": {
        "colab": {
          "base_uri": "https://localhost:8080/"
        },
        "id": "o-xG4ZgbNJ1E",
        "outputId": "c26472df-b091-4292-94d9-48d7b6a36072"
      },
      "execution_count": 25,
      "outputs": [
        {
          "output_type": "execute_result",
          "data": {
            "text/plain": [
              "array([0, 1, 2])"
            ]
          },
          "metadata": {},
          "execution_count": 25
        }
      ]
    },
    {
      "cell_type": "markdown",
      "source": [
        "## Confusion matrix"
      ],
      "metadata": {
        "id": "v66Fyj6FVSGQ"
      }
    },
    {
      "cell_type": "markdown",
      "source": [
        "### Implementação Scikit learn"
      ],
      "metadata": {
        "id": "fuHgnIuEYQUt"
      }
    },
    {
      "cell_type": "code",
      "source": [
        "confusion_matrix(y_real, y_pred)"
      ],
      "metadata": {
        "colab": {
          "base_uri": "https://localhost:8080/"
        },
        "id": "6W1CawoTYLye",
        "outputId": "db5389d8-edfb-49d4-9ce1-8e8778cb9adf"
      },
      "execution_count": 26,
      "outputs": [
        {
          "output_type": "execute_result",
          "data": {
            "text/plain": [
              "array([[  96,  343,  120],\n",
              "       [  20, 1242,  251],\n",
              "       [  25,  496,  954]])"
            ]
          },
          "metadata": {},
          "execution_count": 26
        }
      ]
    },
    {
      "cell_type": "markdown",
      "source": [
        "### Implementação from scratch"
      ],
      "metadata": {
        "id": "QiSXl6kJYTr5"
      }
    },
    {
      "cell_type": "code",
      "source": [
        "#           Predicted\n",
        "#         | 0 | 1 | 2\n",
        "#       0 |\n",
        "#  Real 1 |\n",
        "#       2 |\n",
        "\n",
        "res_0_0 = 0\n",
        "res_0_1 = 0\n",
        "res_0_2 = 0\n",
        "\n",
        "res_1_0 = 0\n",
        "res_1_1 = 0\n",
        "res_1_2 = 0\n",
        "\n",
        "res_2_0 = 0\n",
        "res_2_1 = 0\n",
        "res_2_2 = 0\n",
        "\n",
        "for test, pred in zip(y_real, y_pred):\n",
        "  if test == 0 and pred == 0:\n",
        "    res_0_0 += 1\n",
        "  elif test == 0 and pred == 1:\n",
        "    res_0_1 += 1\n",
        "  elif test == 0 and pred == 2:\n",
        "    res_0_2 += 1\n",
        "  elif test == 1 and pred == 0:\n",
        "    res_1_0 += 1\n",
        "  elif test == 1 and pred == 1:\n",
        "    res_1_1 += 1\n",
        "  elif test == 1 and pred == 2:\n",
        "    res_1_2 += 1\n",
        "  elif test == 2 and pred == 0:\n",
        "    res_2_0 += 1\n",
        "  elif test == 2 and pred == 1:\n",
        "    res_2_1 += 1\n",
        "  elif test == 2 and pred == 2:\n",
        "    res_2_2 += 1"
      ],
      "metadata": {
        "id": "T49nCTMLLwfz"
      },
      "execution_count": 27,
      "outputs": []
    },
    {
      "cell_type": "code",
      "source": [
        "confusion_matrix = [[res_0_0, res_0_1, res_0_2], [res_1_0, res_1_1, res_1_2], [res_2_0, res_2_1, res_2_2]]\n",
        "np.array(confusion_matrix)"
      ],
      "metadata": {
        "colab": {
          "base_uri": "https://localhost:8080/"
        },
        "id": "Bf19gNd4PPr9",
        "outputId": "185b537c-b6c6-4fe4-f799-dd28bb944b8f"
      },
      "execution_count": 28,
      "outputs": [
        {
          "output_type": "execute_result",
          "data": {
            "text/plain": [
              "array([[  96,  343,  120],\n",
              "       [  20, 1242,  251],\n",
              "       [  25,  496,  954]])"
            ]
          },
          "metadata": {},
          "execution_count": 28
        }
      ]
    },
    {
      "cell_type": "markdown",
      "source": [
        "## Precision, Recall and F1-score"
      ],
      "metadata": {
        "id": "GoFZcDUvVVpC"
      }
    },
    {
      "cell_type": "code",
      "source": [
        "print(classification_report(y_real, y_pred))"
      ],
      "metadata": {
        "colab": {
          "base_uri": "https://localhost:8080/"
        },
        "id": "3WWToI1xVeCE",
        "outputId": "4d0df463-f37a-4a4d-9b03-c3080c199b9a"
      },
      "execution_count": 29,
      "outputs": [
        {
          "output_type": "stream",
          "name": "stdout",
          "text": [
            "              precision    recall  f1-score   support\n",
            "\n",
            "           0       0.68      0.17      0.27       559\n",
            "           1       0.60      0.82      0.69      1513\n",
            "           2       0.72      0.65      0.68      1475\n",
            "\n",
            "    accuracy                           0.65      3547\n",
            "   macro avg       0.67      0.55      0.55      3547\n",
            "weighted avg       0.66      0.65      0.62      3547\n",
            "\n"
          ]
        }
      ]
    },
    {
      "cell_type": "markdown",
      "source": [
        "### Metrics for class 0"
      ],
      "metadata": {
        "id": "or9UQ0h9WDib"
      }
    },
    {
      "cell_type": "code",
      "source": [
        "precision_0 = res_0_0 / (res_0_0 + res_1_0 + res_2_0)\n",
        "recall_0 = res_0_0 / (res_0_1 + res_0_2 + res_0_0)\n",
        "\n",
        "f1_score_0 = 2 * (precision_0 * recall_0 / (precision_0 + recall_0))\n",
        "\n",
        "print(f'Precision: {precision_0}, recall: {recall_0}, f1_score: {f1_score_0}')"
      ],
      "metadata": {
        "colab": {
          "base_uri": "https://localhost:8080/"
        },
        "id": "2qtH_XqHWMBH",
        "outputId": "08953b81-2af5-4972-c2be-7057570cc1f5"
      },
      "execution_count": 34,
      "outputs": [
        {
          "output_type": "stream",
          "name": "stdout",
          "text": [
            "Precision: 0.6808510638297872, recall: 0.17173524150268335, f1_score: 0.27428571428571424\n"
          ]
        }
      ]
    },
    {
      "cell_type": "markdown",
      "source": [
        "### Metrics for class 1"
      ],
      "metadata": {
        "id": "Ax0C9DECWJk9"
      }
    },
    {
      "cell_type": "code",
      "source": [
        "precision_1 = res_1_1 / (res_1_1 + res_0_1 + res_2_1)\n",
        "recall_1 = res_1_1 / (res_1_1 + res_1_0 + res_1_2)\n",
        "\n",
        "f1_score_1 = 2 * (precision_1 * recall_1 / (precision_1 + recall_1))\n",
        "\n",
        "print(f'Precision: {precision_1}, recall: {recall_1}, f1_score: {f1_score_1}')"
      ],
      "metadata": {
        "colab": {
          "base_uri": "https://localhost:8080/"
        },
        "id": "Su7uSxaTXxEY",
        "outputId": "30b37542-a8e2-4124-95a9-34c6cd933dbe"
      },
      "execution_count": 33,
      "outputs": [
        {
          "output_type": "stream",
          "name": "stdout",
          "text": [
            "Precision: 0.596828447861605, recall: 0.82088565763384, f1_score: 0.6911519198664442\n"
          ]
        }
      ]
    },
    {
      "cell_type": "markdown",
      "source": [
        "### Metrics for class 2"
      ],
      "metadata": {
        "id": "Qg0szGmfWKXd"
      }
    },
    {
      "cell_type": "code",
      "source": [
        "precision_2 = res_2_2 / (res_1_2 + res_2_2 + res_0_2)\n",
        "recall_2 = res_2_2 / (res_2_2 + res_2_0 + res_2_1)\n",
        "\n",
        "f1_score_2 = 2 * (precision_2 * recall_2 / (precision_2 + recall_2))\n",
        "\n",
        "print(f'Precision: {precision_2}, recall: {recall_2}, f1_score: {f1_score_2}')"
      ],
      "metadata": {
        "colab": {
          "base_uri": "https://localhost:8080/"
        },
        "id": "1nUmh4yHXxp3",
        "outputId": "7005114d-b7d8-45c1-e37a-6d375d8c5fad"
      },
      "execution_count": 35,
      "outputs": [
        {
          "output_type": "stream",
          "name": "stdout",
          "text": [
            "Precision: 0.72, recall: 0.6467796610169492, f1_score: 0.6814285714285714\n"
          ]
        }
      ]
    },
    {
      "cell_type": "markdown",
      "source": [
        "### Weighted average"
      ],
      "metadata": {
        "id": "M9FikgFgIOdV"
      }
    },
    {
      "cell_type": "code",
      "source": [
        "unique, counts = np.unique(y_real, return_counts=True)\n",
        "counts"
      ],
      "metadata": {
        "colab": {
          "base_uri": "https://localhost:8080/"
        },
        "id": "lq8Obb1pISEP",
        "outputId": "07c14d00-d0a2-43b8-cdc9-49c0c41cb7d8"
      },
      "execution_count": 52,
      "outputs": [
        {
          "output_type": "execute_result",
          "data": {
            "text/plain": [
              "array([ 559, 1513, 1475])"
            ]
          },
          "metadata": {},
          "execution_count": 52
        }
      ]
    },
    {
      "cell_type": "code",
      "source": [
        "precision = ((precision_0 * counts[0]) + (precision_1 * counts[1]) + (precision_2 * counts[2])) / (len(y_real))\n",
        "recall = ((recall_0 * counts[0]) + (recall_1 * counts[1]) + (recall_2 * counts[2])) / (len(y_real))\n",
        "f1_score = ((f1_score_0 * counts[0]) + (f1_score_1 * counts[1]) + (f1_score_2 * counts[2])) / (len(y_real))\n",
        "\n",
        "print(f'Precision: {precision}, recall: {recall}, f1_score: {f1_score}')"
      ],
      "metadata": {
        "colab": {
          "base_uri": "https://localhost:8080/"
        },
        "id": "trJrQdVYIgHS",
        "outputId": "b6705edb-2027-4094-db27-3b68c6188526"
      },
      "execution_count": 54,
      "outputs": [
        {
          "output_type": "stream",
          "name": "stdout",
          "text": [
            "Precision: 0.6612904387638735, recall: 0.6461798703129406, f1_score: 0.6214112522979383\n"
          ]
        }
      ]
    }
  ]
}